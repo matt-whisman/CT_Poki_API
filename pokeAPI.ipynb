{
 "cells": [
  {
   "cell_type": "code",
   "execution_count": 34,
   "metadata": {},
   "outputs": [],
   "source": [
    "import requests\n",
    "import pprint\n",
    "\n",
    "# names for adding with a loop to view the results\n",
    "names = [\n",
    "    \"metagross\",\n",
    "    \"scizor\",\n",
    "    \"doublade\",\n",
    "    \"rockruff\",\n",
    "    \"trumbeak\",\n",
    "    \"heracross\",\n",
    "    \"crobat\",\n",
    "    \"machamp\",\n",
    "    \"cryogonal\",\n",
    "    \"raikou\",\n",
    "    \"rayquaza\",\n",
    "    \"wobbuffet\",\n",
    "    \"zygarde\",\n",
    "    \"fraxure\",\n",
    "    \"electabuzz\",\n",
    "    \"incineroar\",\n",
    "    \"nidoking\",\n",
    "    \"basculegion\",\n",
    "    \"flygon\",\n",
    "    \"pignite\",\n",
    "    \"quilava\",\n",
    "    \"toxapex\",\n",
    "    \"marshadow\",\n",
    "    \"inteleon\",\n",
    "    \"tornadus\",\n",
    "    \"gastly\",\n",
    "    \"perrserker\",\n",
    "    \"staskataka\",\n",
    "    \"psyduck\",\n",
    "    \"frosmoth\",\n",
    "]\n",
    "\n",
    "\n",
    "class Pokemon:\n",
    "    def __init__(\n",
    "        self,\n",
    "        name,\n",
    "        p_type,\n",
    "        height=0,\n",
    "        weight=0,\n",
    "        hp=0,\n",
    "        attack=0,\n",
    "        defense=0,\n",
    "        speed=0,\n",
    "        abilities=[],\n",
    "    ):\n",
    "        self.name = name\n",
    "        self.type = p_type\n",
    "        self.height = height\n",
    "        self.weight = weight\n",
    "        self.hp = hp\n",
    "        self.attack = attack\n",
    "        self.defense = defense\n",
    "        self.speed = speed\n",
    "        self.abilities = abilities\n",
    "\n",
    "\n",
    "class Pokedex:\n",
    "    def __init__(self, name):\n",
    "        self.name = name.lower()\n",
    "\n",
    "        # make api call with the name\n",
    "        api_url = f\"https://pokeapi.co/api/v2/pokemon/{self.name}\"\n",
    "        data = requests.get(api_url).json()\n",
    "\n",
    "        # keep a list of the pokemon in the pokedex\n",
    "        self.pokemon = []\n",
    "\n",
    "        # create pokemon and add it to the list\n",
    "        pokemon = Pokemon(\n",
    "            name=data[\"name\"],\n",
    "            p_type=data[\"types\"][0][\"type\"][\"name\"],\n",
    "            height=data[\"height\"],\n",
    "            weight=data[\"weight\"],\n",
    "            hp=data[\"stats\"][0][\"base_stat\"],\n",
    "            attack=data[\"stats\"][1][\"base_stat\"],\n",
    "            defense=data[\"stats\"][2][\"base_stat\"],\n",
    "            speed=data[\"stats\"][5][\"base_stat\"],\n",
    "            abilities=[a[\"ability\"][\"name\"] for a in data[\"abilities\"]],\n",
    "        )\n",
    "\n",
    "        self.pokemon.append(pokemon)\n",
    "\n",
    "    @classmethod\n",
    "    def run(cls):\n",
    "        poke = input(\"Enter a name: \")\n",
    "        return cls(poke)"
   ]
  },
  {
   "cell_type": "code",
   "execution_count": 36,
   "metadata": {},
   "outputs": [
    {
     "data": {
      "text/plain": [
       "['static', 'lightning-rod']"
      ]
     },
     "execution_count": 36,
     "metadata": {},
     "output_type": "execute_result"
    }
   ],
   "source": [
    "api_url = f\"https://pokeapi.co/api/v2/pokemon/pikachu\"\n",
    "data = requests.get(api_url).json()\n",
    "abilities=[a[\"ability\"][\"name\"] for a in data[\"abilities\"]]\n",
    "abilities\n",
    "\n"
   ]
  }
 ],
 "metadata": {
  "kernelspec": {
   "display_name": "Python 3.9.12 ('conda')",
   "language": "python",
   "name": "python3"
  },
  "language_info": {
   "codemirror_mode": {
    "name": "ipython",
    "version": 3
   },
   "file_extension": ".py",
   "mimetype": "text/x-python",
   "name": "python",
   "nbconvert_exporter": "python",
   "pygments_lexer": "ipython3",
   "version": "3.9.12"
  },
  "orig_nbformat": 4,
  "vscode": {
   "interpreter": {
    "hash": "b77905f5783c6e3807a0a31ecb083aa89492518a556405387cb3057bbc92cf6c"
   }
  }
 },
 "nbformat": 4,
 "nbformat_minor": 2
}
